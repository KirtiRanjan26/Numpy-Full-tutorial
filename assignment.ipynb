{
  "nbformat": 4,
  "nbformat_minor": 0,
  "metadata": {
    "colab": {
      "provenance": [],
      "authorship_tag": "ABX9TyNg4K/JhmmKpHgVoVbFamCA",
      "include_colab_link": true
    },
    "kernelspec": {
      "name": "python3",
      "display_name": "Python 3"
    },
    "language_info": {
      "name": "python"
    }
  },
  "cells": [
    {
      "cell_type": "markdown",
      "metadata": {
        "id": "view-in-github",
        "colab_type": "text"
      },
      "source": [
        "<a href=\"https://colab.research.google.com/github/KirtiRanjan26/Numpy-Full-tutorial/blob/main/assignment.ipynb\" target=\"_parent\"><img src=\"https://colab.research.google.com/assets/colab-badge.svg\" alt=\"Open In Colab\"/></a>"
      ]
    },
    {
      "cell_type": "markdown",
      "source": [
        "# Numpy Assignment"
      ],
      "metadata": {
        "id": "rEnn1HrOdDaQ"
      }
    },
    {
      "cell_type": "markdown",
      "source": [
        "### Assignment 1: Array Creation and Manipulation"
      ],
      "metadata": {
        "id": "wQg4CHcjdO3E"
      }
    },
    {
      "cell_type": "code",
      "execution_count": null,
      "metadata": {
        "colab": {
          "base_uri": "https://localhost:8080/"
        },
        "id": "8jLLTJKUcIhe",
        "outputId": "b2bb680e-8002-42ce-d7ab-47f6bdadf3af"
      },
      "outputs": [
        {
          "output_type": "stream",
          "name": "stdout",
          "text": [
            "The array is: [[ 5 14 19 20 20]\n",
            " [ 4 20 10  6 10]\n",
            " [ 2  9 14 11  7]\n",
            " [ 3  7  9  8 12]\n",
            " [ 3  4  5  5 18]]\n",
            "after replacement:\n",
            "[[ 5 14  1 20 20]\n",
            " [ 4 20  1  6 10]\n",
            " [ 2  9  1 11  7]\n",
            " [ 3  7  1  8 12]\n",
            " [ 3  4  1  5 18]]\n",
            "next array is [[ 4 11  7  2]\n",
            " [11 12  5  9]\n",
            " [11 13  1  5]\n",
            " [12 10  5 11]]\n",
            "after replacement:\n",
            "[[ 0 14  1 20 20]\n",
            " [ 4  0  1  6 10]\n",
            " [ 2  9  0 11  7]\n",
            " [ 3  7  1  0 12]\n",
            " [ 3  4  1  5  0]]\n",
            "replace bothside:\n",
            "[[ 0 14  1 20  0]\n",
            " [ 4  0  1  0 10]\n",
            " [ 2  9  0 11  7]\n",
            " [ 3  0  1  0 12]\n",
            " [ 0  4  1  5  0]]\n"
          ]
        }
      ],
      "source": [
        "# 1. Create a NumPy array of shape (5, 5) filled with random integers between 1 and 20. Replace all the elements in the third column with 1.\n",
        "import numpy as np\n",
        "arr=np.random.randint(1,21,size=(5,5))\n",
        "print(\"The array is:\",arr)\n",
        "print(\"after replacement:\")\n",
        "arr[:, 2] = 1 # replacement\n",
        "print(arr)\n",
        "# 2. Create a NumPy array of shape (4, 4) with values from 1 to 16. Replace the diagonal elements with 0.\n",
        "arr2= np.random.randint(1,17,size=(4,4))\n",
        "print(\"next array is\",arr2)\n",
        "print(\"after replacement:\")\n",
        "np.fill_diagonal(arr,0)\n",
        "print(arr)\n",
        "print(\"replace bothside:\")\n",
        "np.fill_diagonal(np.fliplr(arr), 0)\n",
        "print(arr)"
      ]
    },
    {
      "cell_type": "markdown",
      "source": [
        "### Assignment 2: Array Indexing and Slicing"
      ],
      "metadata": {
        "id": "GGYwJRhOisnt"
      }
    },
    {
      "cell_type": "code",
      "source": [
        "'''1. Create a NumPy array of shape (6, 6) with values from 1 to 36.\n",
        " Extract the sub-array consisting of the 3rd to 5th rows and 2nd to 4th columns.'''\n",
        "import numpy as np\n",
        "arr=np.random.randint(1,37,size=(6,6))\n",
        "print(arr)\n",
        "print(\"extracting subarray:\")\n",
        "print(arr[2:5,1:4])\n",
        "\n",
        "\n",
        "\n",
        "#2. Create a NumPy array of shape (5, 5) with random integers. Extract the elements on the border.\n",
        "import numpy as np\n",
        "arr2=np.random.randint(1,37,size=(5,5))\n",
        "print(arr2)\n",
        "print(\"extracting element on the border:\")\n",
        "Border=np.concatenate([\n",
        "    arr2[0,:],\n",
        "    arr2[-1,:],\n",
        "    arr2[1:-1,0],\n",
        "    arr2[1:-1,-1]\n",
        "])\n",
        "print(Border.reshape(4,4))\n",
        "\n"
      ],
      "metadata": {
        "colab": {
          "base_uri": "https://localhost:8080/"
        },
        "id": "GdorCir6ilcO",
        "outputId": "7b799601-73ab-4c4f-f2bd-2ec4f652d87f"
      },
      "execution_count": null,
      "outputs": [
        {
          "output_type": "stream",
          "name": "stdout",
          "text": [
            "[[ 4 36 24  5  6 23]\n",
            " [ 5  8 15  7 17  2]\n",
            " [12 19 22 26 10 26]\n",
            " [26  7 31  8  2 11]\n",
            " [ 6 35  7 23 32  9]\n",
            " [13 16  8  1 17 28]]\n",
            "extracting subarray:\n",
            "[[19 22 26]\n",
            " [ 7 31  8]\n",
            " [35  7 23]]\n",
            "[[ 6 27  8 13 32]\n",
            " [32 12 22 34 27]\n",
            " [15 24 13 24 23]\n",
            " [32 19 30  1 13]\n",
            " [ 3 33  4 27  5]]\n",
            "extracting element on the border:\n",
            "[[ 6 27  8 13]\n",
            " [32  3 33  4]\n",
            " [27  5 32 15]\n",
            " [32 27 23 13]]\n"
          ]
        }
      ]
    },
    {
      "cell_type": "markdown",
      "source": [
        "### Assignment 3: Array Operations\n"
      ],
      "metadata": {
        "id": "KeEcU6CYpDSf"
      }
    },
    {
      "cell_type": "code",
      "source": [
        "''' 1. Create two NumPy arrays of shape (3, 4) filled with random integers.\n",
        "Perform element-wise addition, subtraction, multiplication, and division.'''\n",
        "import numpy as np\n",
        "arr=np.random.randint(1,16,size=(3,4))\n",
        "arr2=np.random.randint(1,16,size=(3,4))\n",
        "print(\"addtion:\",np.add(arr,arr2))\n",
        "print(\"substraction:\",np.subtract(arr,arr2))\n",
        "print(\"division:\",np.divide(arr,arr2))\n",
        "print(\"multiplication:\",np.multiply(arr,arr2))\n",
        "# 2. Create a NumPy array of shape (4, 4) with values from 1 to 16. Compute the row-wise and column-wise sum.\n",
        "\n",
        "arr = np.arange(1, 17).reshape(4, 4)\n",
        "print(\"Array:\\n\", arr)\n",
        "\n",
        "# Row-wise sum\n",
        "row_sum = np.sum(arr, axis=1)\n",
        "print(\"\\nRow-wise sum:\", row_sum)\n",
        "\n",
        "# Column-wise sum\n",
        "col_sum = np.sum(arr, axis=0)\n",
        "print(\"Column-wise sum:\", col_sum)"
      ],
      "metadata": {
        "colab": {
          "base_uri": "https://localhost:8080/"
        },
        "id": "W72KTv6lpEgU",
        "outputId": "d47f62fa-75f4-4870-98a9-159ba9a0cd29"
      },
      "execution_count": null,
      "outputs": [
        {
          "output_type": "stream",
          "name": "stdout",
          "text": [
            "addtion: [[23 13  6 18]\n",
            " [12 17 26 19]\n",
            " [19 25  7 23]]\n",
            "substraction: [[ 7  1 -2 -2]\n",
            " [ 0 -7  4 -5]\n",
            " [ 5  3 -3  7]]\n",
            "division: [[1.875      1.16666667 0.5        0.8       ]\n",
            " [1.         0.41666667 1.36363636 0.58333333]\n",
            " [1.71428571 1.27272727 0.4        1.875     ]]\n",
            "multiplication: [[120  42   8  80]\n",
            " [ 36  60 165  84]\n",
            " [ 84 154  10 120]]\n",
            "Array:\n",
            " [[ 1  2  3  4]\n",
            " [ 5  6  7  8]\n",
            " [ 9 10 11 12]\n",
            " [13 14 15 16]]\n",
            "\n",
            "Row-wise sum: [10 26 42 58]\n",
            "Column-wise sum: [28 32 36 40]\n"
          ]
        }
      ]
    },
    {
      "cell_type": "code",
      "source": [],
      "metadata": {
        "id": "XHh21YiocbAt"
      },
      "execution_count": null,
      "outputs": []
    }
  ]
}