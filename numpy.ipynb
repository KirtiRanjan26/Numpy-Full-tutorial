{
  "nbformat": 4,
  "nbformat_minor": 0,
  "metadata": {
    "colab": {
      "provenance": [],
      "authorship_tag": "ABX9TyP6jNmAPECm5nNtF1Ok64Z8",
      "include_colab_link": true
    },
    "kernelspec": {
      "name": "python3",
      "display_name": "Python 3"
    },
    "language_info": {
      "name": "python"
    }
  },
  "cells": [
    {
      "cell_type": "markdown",
      "metadata": {
        "id": "view-in-github",
        "colab_type": "text"
      },
      "source": [
        "<a href=\"https://colab.research.google.com/github/KirtiRanjan26/Numpy-Full-tutorial/blob/main/numpy.ipynb\" target=\"_parent\"><img src=\"https://colab.research.google.com/assets/colab-badge.svg\" alt=\"Open In Colab\"/></a>"
      ]
    },
    {
      "cell_type": "markdown",
      "source": [
        "## The numpy library for Scientific computing in python. its provide a high perfromance multidimentional array object."
      ],
      "metadata": {
        "id": "wCp3DWVhZnqG"
      }
    },
    {
      "cell_type": "code",
      "execution_count": null,
      "metadata": {
        "id": "qmfOxYciY0CQ"
      },
      "outputs": [],
      "source": [
        "import numpy as np"
      ]
    },
    {
      "cell_type": "code",
      "source": [
        "#creation of an numpy array.\n",
        "a =np. array([1,2,3])\n",
        "print(a)\n",
        "print(type(a))\n",
        "print(a.dtype)\n",
        "print(np.array([1.2,2.3,3.4]))\n",
        "b=np.array([(24,56,78),(12,45,30)])# 2D array\n",
        "print(b)\n",
        "# check the dimention\n",
        "b.shape\n",
        "#change the datatype of an element in the array\n",
        "c=np.array([(1.4,56,76,43),(2.5,11,87,29)],dtype=float)\n",
        "print(c)"
      ],
      "metadata": {
        "colab": {
          "base_uri": "https://localhost:8080/"
        },
        "id": "V2MPhLxEaVob",
        "outputId": "357c48f4-2148-4d4c-b961-18ce9f162d84"
      },
      "execution_count": null,
      "outputs": [
        {
          "output_type": "stream",
          "name": "stdout",
          "text": [
            "[1 2 3]\n",
            "<class 'numpy.ndarray'>\n",
            "int64\n",
            "[1.2 2.3 3.4]\n",
            "[[24 56 78]\n",
            " [12 45 30]]\n",
            "[[ 1.4 56.  76.  43. ]\n",
            " [ 2.5 11.  87.  29. ]]\n"
          ]
        }
      ]
    },
    {
      "cell_type": "code",
      "source": [
        "# initial placeholder\n",
        "np.zeros((3,4)) # create an array of Zeros"
      ],
      "metadata": {
        "colab": {
          "base_uri": "https://localhost:8080/"
        },
        "id": "q1reC2R3bFn4",
        "outputId": "d83f363f-968d-4ab3-a827-05c81d4e57fe"
      },
      "execution_count": null,
      "outputs": [
        {
          "output_type": "execute_result",
          "data": {
            "text/plain": [
              "array([[0., 0., 0., 0.],\n",
              "       [0., 0., 0., 0.],\n",
              "       [0., 0., 0., 0.]])"
            ]
          },
          "metadata": {},
          "execution_count": 17
        }
      ]
    },
    {
      "cell_type": "code",
      "source": [
        "np.ones((2,4))# create an array of ones\n",
        "arr= np.arange(10,25,3,dtype=float) # creating array of range\n",
        "print(arr)"
      ],
      "metadata": {
        "colab": {
          "base_uri": "https://localhost:8080/"
        },
        "id": "XDtZWTD8jPYO",
        "outputId": "68bbbb6c-ab64-4c68-9382-97b27341f009"
      },
      "execution_count": null,
      "outputs": [
        {
          "output_type": "stream",
          "name": "stdout",
          "text": [
            "[10. 13. 16. 19. 22.]\n"
          ]
        }
      ]
    },
    {
      "cell_type": "code",
      "source": [
        "np.linspace(0,2,9)# print 9 number from 0 to 2 .you spasify the number of element in between start and stop"
      ],
      "metadata": {
        "colab": {
          "base_uri": "https://localhost:8080/"
        },
        "id": "XRyjh8rkkpYo",
        "outputId": "24ed98d3-f3c5-4a27-f3ba-38e49ede837e"
      },
      "execution_count": null,
      "outputs": [
        {
          "output_type": "execute_result",
          "data": {
            "text/plain": [
              "array([0.  , 0.25, 0.5 , 0.75, 1.  , 1.25, 1.5 , 1.75, 2.  ])"
            ]
          },
          "metadata": {},
          "execution_count": 25
        }
      ]
    },
    {
      "cell_type": "code",
      "source": [
        "np.full((2,4),7)# similar number of array print"
      ],
      "metadata": {
        "colab": {
          "base_uri": "https://localhost:8080/"
        },
        "id": "djxAnUJdpB0H",
        "outputId": "6d207cf5-fcd7-4058-86f3-82a3a7ce5439"
      },
      "execution_count": null,
      "outputs": [
        {
          "output_type": "execute_result",
          "data": {
            "text/plain": [
              "array([[7, 7, 7, 7],\n",
              "       [7, 7, 7, 7]])"
            ]
          },
          "metadata": {},
          "execution_count": 28
        }
      ]
    },
    {
      "cell_type": "code",
      "source": [
        "np.random.random((4,5)) # always start from zero and end with zero\n",
        "arr=np.random.randint(2,51,size=10) # print 1D array of  random number from 2 to 50 with number of element is 10\n",
        "print(arr)\n",
        "arr2= np.random.uniform(2,30,size=12) # print foating number of 1D array\n",
        "print(arr2)\n",
        "arr3 = np.random.randint(2,41,size=(3,5)) #random number of 3x4 array\n",
        "print(arr3)\n"
      ],
      "metadata": {
        "colab": {
          "base_uri": "https://localhost:8080/"
        },
        "id": "-5fj8ijupgib",
        "outputId": "e6885ae3-2608-4463-e3b7-e8d81bdd7f20"
      },
      "execution_count": null,
      "outputs": [
        {
          "output_type": "stream",
          "name": "stdout",
          "text": [
            "[19 15 27  8 44 20 41 18 36 13]\n",
            "[ 4.27382084 14.6700688  29.60892608 14.97192576 14.39843219  5.28948483\n",
            "  8.98422264  7.02341163 17.17533597 28.76700617 23.65194041 21.39380255]\n",
            "[[18  6 22 32  6]\n",
            " [11 19 23  4 32]\n",
            " [36 12 16 37 31]]\n",
            "arr4= None\n"
          ]
        }
      ]
    }
  ]
}