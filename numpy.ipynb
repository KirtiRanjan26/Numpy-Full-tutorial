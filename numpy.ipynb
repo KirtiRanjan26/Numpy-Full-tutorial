{
  "nbformat": 4,
  "nbformat_minor": 0,
  "metadata": {
    "colab": {
      "provenance": [],
      "authorship_tag": "ABX9TyMxRmkowFsREqrPQQeh/nbH",
      "include_colab_link": true
    },
    "kernelspec": {
      "name": "python3",
      "display_name": "Python 3"
    },
    "language_info": {
      "name": "python"
    }
  },
  "cells": [
    {
      "cell_type": "markdown",
      "metadata": {
        "id": "view-in-github",
        "colab_type": "text"
      },
      "source": [
        "<a href=\"https://colab.research.google.com/github/KirtiRanjan26/Numpy-Full-tutorial/blob/main/numpy.ipynb\" target=\"_parent\"><img src=\"https://colab.research.google.com/assets/colab-badge.svg\" alt=\"Open In Colab\"/></a>"
      ]
    },
    {
      "cell_type": "markdown",
      "source": [
        "## The numpy library for Scientific computing in python. its provide a high perfromance multidimentional array object."
      ],
      "metadata": {
        "id": "wCp3DWVhZnqG"
      }
    },
    {
      "cell_type": "code",
      "execution_count": 4,
      "metadata": {
        "id": "qmfOxYciY0CQ"
      },
      "outputs": [],
      "source": [
        "import numpy as np"
      ]
    },
    {
      "cell_type": "code",
      "source": [
        "#creation of an numpy array.\n",
        "a =np. array([1,2,3])\n",
        "print(a)\n",
        "print(type(a))\n",
        "print(a.dtype)\n",
        "print(np.array([1.2,2.3,3.4]))\n",
        "b=np.array([(24,56,78),(12,45,30)])# 2D array\n",
        "print(b)\n",
        "# check the dimention\n",
        "b.shape\n",
        "#change the datatype of an element in the array\n",
        "c=np.array([(1.4,56,76,43),(2.5,11,87,29)],dtype=float)\n",
        "print(c)"
      ],
      "metadata": {
        "colab": {
          "base_uri": "https://localhost:8080/",
          "height": 211
        },
        "id": "V2MPhLxEaVob",
        "outputId": "7caf8718-36a4-4147-c4bd-43a295aa3746"
      },
      "execution_count": 3,
      "outputs": [
        {
          "output_type": "error",
          "ename": "NameError",
          "evalue": "name 'np' is not defined",
          "traceback": [
            "\u001b[0;31m---------------------------------------------------------------------------\u001b[0m",
            "\u001b[0;31mNameError\u001b[0m                                 Traceback (most recent call last)",
            "\u001b[0;32m/tmp/ipython-input-4093962078.py\u001b[0m in \u001b[0;36m<cell line: 0>\u001b[0;34m()\u001b[0m\n\u001b[1;32m      1\u001b[0m \u001b[0;31m#creation of an numpy array.\u001b[0m\u001b[0;34m\u001b[0m\u001b[0;34m\u001b[0m\u001b[0m\n\u001b[0;32m----> 2\u001b[0;31m \u001b[0ma\u001b[0m \u001b[0;34m=\u001b[0m\u001b[0mnp\u001b[0m\u001b[0;34m.\u001b[0m \u001b[0marray\u001b[0m\u001b[0;34m(\u001b[0m\u001b[0;34m[\u001b[0m\u001b[0;36m1\u001b[0m\u001b[0;34m,\u001b[0m\u001b[0;36m2\u001b[0m\u001b[0;34m,\u001b[0m\u001b[0;36m3\u001b[0m\u001b[0;34m]\u001b[0m\u001b[0;34m)\u001b[0m\u001b[0;34m\u001b[0m\u001b[0;34m\u001b[0m\u001b[0m\n\u001b[0m\u001b[1;32m      3\u001b[0m \u001b[0mprint\u001b[0m\u001b[0;34m(\u001b[0m\u001b[0ma\u001b[0m\u001b[0;34m)\u001b[0m\u001b[0;34m\u001b[0m\u001b[0;34m\u001b[0m\u001b[0m\n\u001b[1;32m      4\u001b[0m \u001b[0mprint\u001b[0m\u001b[0;34m(\u001b[0m\u001b[0mtype\u001b[0m\u001b[0;34m(\u001b[0m\u001b[0ma\u001b[0m\u001b[0;34m)\u001b[0m\u001b[0;34m)\u001b[0m\u001b[0;34m\u001b[0m\u001b[0;34m\u001b[0m\u001b[0m\n\u001b[1;32m      5\u001b[0m \u001b[0mprint\u001b[0m\u001b[0;34m(\u001b[0m\u001b[0ma\u001b[0m\u001b[0;34m.\u001b[0m\u001b[0mdtype\u001b[0m\u001b[0;34m)\u001b[0m\u001b[0;34m\u001b[0m\u001b[0;34m\u001b[0m\u001b[0m\n",
            "\u001b[0;31mNameError\u001b[0m: name 'np' is not defined"
          ]
        }
      ]
    },
    {
      "cell_type": "code",
      "source": [
        "# initial placeholder\n",
        "np.zeros((3,4)) # create an array of Zeros"
      ],
      "metadata": {
        "colab": {
          "base_uri": "https://localhost:8080/"
        },
        "id": "q1reC2R3bFn4",
        "outputId": "d83f363f-968d-4ab3-a827-05c81d4e57fe"
      },
      "execution_count": null,
      "outputs": [
        {
          "output_type": "execute_result",
          "data": {
            "text/plain": [
              "array([[0., 0., 0., 0.],\n",
              "       [0., 0., 0., 0.],\n",
              "       [0., 0., 0., 0.]])"
            ]
          },
          "metadata": {},
          "execution_count": 17
        }
      ]
    },
    {
      "cell_type": "code",
      "source": [
        "np.ones((2,4))# create an array of ones\n",
        "# arr= np.arange(10,25,3,dtype=float) # creating array of range\n",
        "# print(arr)\n",
        "arr=np.arange(8,5,9)\n",
        "print(arr)\n"
      ],
      "metadata": {
        "colab": {
          "base_uri": "https://localhost:8080/"
        },
        "id": "XDtZWTD8jPYO",
        "outputId": "4b02ee2f-9bf3-40c5-d091-4cbe7640b4c2"
      },
      "execution_count": null,
      "outputs": [
        {
          "output_type": "stream",
          "name": "stdout",
          "text": [
            "[]\n"
          ]
        }
      ]
    },
    {
      "cell_type": "code",
      "source": [
        "np.linspace(0,2,9)# print 9 number from 0 to 2 .you spasify the number of element in between start and stop"
      ],
      "metadata": {
        "colab": {
          "base_uri": "https://localhost:8080/"
        },
        "id": "XRyjh8rkkpYo",
        "outputId": "24ed98d3-f3c5-4a27-f3ba-38e49ede837e"
      },
      "execution_count": null,
      "outputs": [
        {
          "output_type": "execute_result",
          "data": {
            "text/plain": [
              "array([0.  , 0.25, 0.5 , 0.75, 1.  , 1.25, 1.5 , 1.75, 2.  ])"
            ]
          },
          "metadata": {},
          "execution_count": 25
        }
      ]
    },
    {
      "cell_type": "code",
      "source": [
        "np.full((2,4),7)# similar number of array print"
      ],
      "metadata": {
        "colab": {
          "base_uri": "https://localhost:8080/"
        },
        "id": "djxAnUJdpB0H",
        "outputId": "6d207cf5-fcd7-4058-86f3-82a3a7ce5439"
      },
      "execution_count": null,
      "outputs": [
        {
          "output_type": "execute_result",
          "data": {
            "text/plain": [
              "array([[7, 7, 7, 7],\n",
              "       [7, 7, 7, 7]])"
            ]
          },
          "metadata": {},
          "execution_count": 28
        }
      ]
    },
    {
      "cell_type": "code",
      "source": [
        "np.random.random((4,5)) # always start from zero and end with zero\n",
        "arr=np.random.randint(2,51,size=10) # print 1D array of  random number from 2 to 50 with number of element is 10\n",
        "print(arr)\n",
        "arr2= np.random.uniform(2,30,size=12) # print foating number of 1D array\n",
        "print(arr2)\n",
        "arr3 = np.random.randint(2,41,size=(3,5)) #random number of 3x4 array\n",
        "print(arr3)\n"
      ],
      "metadata": {
        "colab": {
          "base_uri": "https://localhost:8080/"
        },
        "id": "-5fj8ijupgib",
        "outputId": "e6885ae3-2608-4463-e3b7-e8d81bdd7f20"
      },
      "execution_count": null,
      "outputs": [
        {
          "output_type": "stream",
          "name": "stdout",
          "text": [
            "[19 15 27  8 44 20 41 18 36 13]\n",
            "[ 4.27382084 14.6700688  29.60892608 14.97192576 14.39843219  5.28948483\n",
            "  8.98422264  7.02341163 17.17533597 28.76700617 23.65194041 21.39380255]\n",
            "[[18  6 22 32  6]\n",
            " [11 19 23  4 32]\n",
            " [36 12 16 37 31]]\n",
            "arr4= None\n"
          ]
        }
      ]
    },
    {
      "cell_type": "markdown",
      "source": [
        "##arithmatic operation"
      ],
      "metadata": {
        "id": "8eG5zW8A8XCU"
      }
    },
    {
      "cell_type": "code",
      "source": [
        "# addition of two matrix\n",
        "arr1= np.random.randint(2,24,size=5)\n",
        "print(arr1)\n",
        "arr2= np.random.randint(4,25,size=5)\n",
        "print(arr2)\n",
        "c=arr1+arr2\n",
        "print(\"add the number\",c)\n",
        "c=np.add(arr1,arr2)\n",
        "print(c)"
      ],
      "metadata": {
        "colab": {
          "base_uri": "https://localhost:8080/"
        },
        "id": "IzwwQfEq8Th6",
        "outputId": "bb0e57ae-e97a-4a59-e850-7104a09bb879"
      },
      "execution_count": null,
      "outputs": [
        {
          "output_type": "stream",
          "name": "stdout",
          "text": [
            "[11 12  8 16 17]\n",
            "[15 16 17 11 14]\n",
            "add the number [26 28 25 27 31]\n",
            "[26 28 25 27 31]\n"
          ]
        }
      ]
    },
    {
      "cell_type": "code",
      "source": [
        "#substraction\n",
        "arr1=np.random.randint(12,34,size=(2,3))\n",
        "arr2=np.random.randint(12,34,size=(2,3))\n",
        "print(arr1-arr2)\n",
        "print(np.subtract(arr1,arr2))"
      ],
      "metadata": {
        "colab": {
          "base_uri": "https://localhost:8080/"
        },
        "id": "RzFOJxs1Iy0h",
        "outputId": "5137d145-aaa2-418f-9015-22d67104bc39"
      },
      "execution_count": null,
      "outputs": [
        {
          "output_type": "stream",
          "name": "stdout",
          "text": [
            "[[  1  12 -15]\n",
            " [  2  -7   6]]\n",
            "[[  1  12 -15]\n",
            " [  2  -7   6]]\n"
          ]
        }
      ]
    },
    {
      "cell_type": "code",
      "source": [
        "# multiplication\n",
        "arr1=np.full((4,3),6)\n",
        "arr2= np.full((4,3),4)\n",
        "print(arr1*arr2)\n",
        "print(np.multiply(arr1,arr2))"
      ],
      "metadata": {
        "colab": {
          "base_uri": "https://localhost:8080/"
        },
        "id": "x5CbkiRZUGEN",
        "outputId": "46124f7f-cc1f-4ebc-fb7d-a569e5b37968"
      },
      "execution_count": null,
      "outputs": [
        {
          "output_type": "stream",
          "name": "stdout",
          "text": [
            "[[24 24 24]\n",
            " [24 24 24]\n",
            " [24 24 24]\n",
            " [24 24 24]]\n",
            "[[24 24 24]\n",
            " [24 24 24]\n",
            " [24 24 24]\n",
            " [24 24 24]]\n"
          ]
        }
      ]
    },
    {
      "cell_type": "code",
      "source": [
        "#division\n",
        "arr1=np.random.randint(12,34,size=(2,3))\n",
        "arr2=np.random.randint(12,34,size=(2,3))\n",
        "print(arr1/arr2)\n",
        "print(np.divide(arr1,arr2))"
      ],
      "metadata": {
        "colab": {
          "base_uri": "https://localhost:8080/"
        },
        "id": "B4IviCGfVP3y",
        "outputId": "5544cc03-c233-4a68-91c2-986cd2102e89"
      },
      "execution_count": null,
      "outputs": [
        {
          "output_type": "stream",
          "name": "stdout",
          "text": [
            "[[0.92       1.         1.35714286]\n",
            " [1.5        1.         0.59259259]]\n",
            "[[0.92       1.         1.35714286]\n",
            " [1.5        1.         0.59259259]]\n"
          ]
        }
      ]
    },
    {
      "cell_type": "code",
      "source": [
        "#Exponentiation\n",
        "arr1=np.random.randint(12,34,size=(2,3))\n",
        "print(np.exp(arr1))\n"
      ],
      "metadata": {
        "colab": {
          "base_uri": "https://localhost:8080/"
        },
        "id": "sX1Sq6RGWefV",
        "outputId": "a7b1aa30-402c-4b27-fa96-a29ffe639ef0"
      },
      "execution_count": null,
      "outputs": [
        {
          "output_type": "stream",
          "name": "stdout",
          "text": [
            "[[3.58491285e+09 5.32048241e+11 4.42413392e+05]\n",
            " [7.89629602e+13 2.90488497e+13 1.06864746e+13]]\n"
          ]
        }
      ]
    },
    {
      "cell_type": "code",
      "source": [
        "arr1=np.full((2,4),7)\n",
        "print(np.sqrt(arr1))"
      ],
      "metadata": {
        "colab": {
          "base_uri": "https://localhost:8080/"
        },
        "id": "-Uj9r30xXG1m",
        "outputId": "478ed7f9-b05a-4b30-b33d-cfcad7f2815d"
      },
      "execution_count": null,
      "outputs": [
        {
          "output_type": "stream",
          "name": "stdout",
          "text": [
            "[[2.64575131 2.64575131 2.64575131 2.64575131]\n",
            " [2.64575131 2.64575131 2.64575131 2.64575131]]\n"
          ]
        }
      ]
    },
    {
      "cell_type": "markdown",
      "source": [
        "## Comparision"
      ],
      "metadata": {
        "id": "G8knt-mKZ8gi"
      }
    },
    {
      "cell_type": "code",
      "source": [
        "# elementwise comparision\n",
        "arr1=np.zeros((2,3))\n",
        "arr1=np.zeros((2,3))\n",
        "print((arr1==arr2))\n",
        "arr3=np.ones((2,4))\n",
        "print((arr1<arr2))"
      ],
      "metadata": {
        "colab": {
          "base_uri": "https://localhost:8080/"
        },
        "id": "-xxp6QCqZ7Su",
        "outputId": "106755d0-549a-4815-b891-7c6ec18b8e66"
      },
      "execution_count": null,
      "outputs": [
        {
          "output_type": "stream",
          "name": "stdout",
          "text": [
            "[[False False False]\n",
            " [False False False]]\n",
            "[[ True  True  True]\n",
            " [ True  True  True]]\n"
          ]
        }
      ]
    },
    {
      "cell_type": "code",
      "source": [
        "#arraywise comparision (dimensionwise equal or not)\n",
        "arr1=np.zeros((2,3))\n",
        "arr2=np.zeros((2,3))\n",
        "arr3=np.ones((2,4))\n",
        "print(np.array_equal(arr1,arr2))\n",
        "print(np.array_equal(arr1,arr3))\n",
        "\n"
      ],
      "metadata": {
        "colab": {
          "base_uri": "https://localhost:8080/"
        },
        "id": "VqFuVNp5bB2B",
        "outputId": "d94db0b6-457b-49be-b81e-59ef2282a673"
      },
      "execution_count": null,
      "outputs": [
        {
          "output_type": "stream",
          "name": "stdout",
          "text": [
            "True\n",
            "False\n"
          ]
        }
      ]
    },
    {
      "cell_type": "markdown",
      "source": [
        "## Aggregate function\n"
      ],
      "metadata": {
        "id": "l0OjjqLZdKjH"
      }
    },
    {
      "cell_type": "code",
      "source": [
        "arr=np.random.randint(2,12,size=(2,3))\n",
        "print(arr)\n",
        "print(arr.sum()) # sum of all element\n",
        "print(arr.min(axis=1)) # minimum element in each row\n",
        "print(arr.max(axis=1)) # maximum element in each column\n",
        "print(arr.min()) # print the single minimum  element entire array\n",
        "print(arr.cumsum()) # cumulative sum\n"
      ],
      "metadata": {
        "colab": {
          "base_uri": "https://localhost:8080/"
        },
        "id": "MtASGW3edPLn",
        "outputId": "3e3dc9b4-de1d-45ff-cc9e-4fe5c8793840"
      },
      "execution_count": 7,
      "outputs": [
        {
          "output_type": "stream",
          "name": "stdout",
          "text": [
            "[[11 11  6]\n",
            " [ 4 10  7]]\n",
            "49\n",
            "[6 4]\n",
            "[11 10]\n",
            "4\n",
            "[11 22 28 32 42 49]\n"
          ]
        }
      ]
    },
    {
      "cell_type": "markdown",
      "source": [
        "### cumulative sum\n",
        "arr=[12,12,3]\n",
        "arr.cumsum()\n",
        "1-->12\n",
        "2-->12+12=24\n",
        "3-->24+3=27\n",
        "final = [12,24,27]"
      ],
      "metadata": {
        "id": "ya6IWmMWjtQO"
      }
    },
    {
      "cell_type": "code",
      "source": [
        "print(arr.mean()) # mean\n",
        "import numpy as np\n",
        "\n",
        "arr = np.array([7, 1, 5, 2, 9,10])\n",
        "median_value = np.median(arr)\n",
        "print(median_value)\n",
        "print(np.std(arr)) # standard deviation\n",
        "print(np.var(arr))\n",
        "\n",
        "\n"
      ],
      "metadata": {
        "colab": {
          "base_uri": "https://localhost:8080/"
        },
        "id": "pxzX2fO0kNdT",
        "outputId": "3a2158a2-b781-4e8c-b57a-052674324143"
      },
      "execution_count": 9,
      "outputs": [
        {
          "output_type": "stream",
          "name": "stdout",
          "text": [
            "5.666666666666667\n",
            "6.0\n",
            "3.3499585403736303\n",
            "11.222222222222223\n"
          ]
        }
      ]
    },
    {
      "cell_type": "markdown",
      "source": [
        "## subsetting, Indexing ,Slicing"
      ],
      "metadata": {
        "id": "spqjkA5H3HKB"
      }
    },
    {
      "cell_type": "code",
      "source": [
        "import numpy as np\n",
        "arr = np.array([10, 20, 30, 40, 50, 60])\n",
        "\n"
      ],
      "metadata": {
        "id": "Nrn6a5tglmfh"
      },
      "execution_count": 12,
      "outputs": []
    },
    {
      "cell_type": "code",
      "source": [
        "#Get the first 3 elements.\n",
        "print(arr[:3])\n",
        "\n",
        "#Get the last 2 elements.\n",
        "print(arr[-2:])\n",
        "\n",
        "#Get every alternate element.\n",
        "print(arr[::2])\n",
        "\n",
        "#Get elements greater than 30.\n",
        "print(arr[arr>30])\n",
        "\n",
        "#Get elements from index 1 to 4 (inclusive).\n",
        "print(arr[1:5])"
      ],
      "metadata": {
        "colab": {
          "base_uri": "https://localhost:8080/"
        },
        "id": "XVyVZ8cV4Ivc",
        "outputId": "4d39b55f-5519-427e-ad04-f31e3e83b1a3"
      },
      "execution_count": 20,
      "outputs": [
        {
          "output_type": "stream",
          "name": "stdout",
          "text": [
            "[10 20 30]\n",
            "[50 60]\n",
            "[10 30 50]\n",
            "[40 50 60]\n",
            "[20 30 40 50]\n"
          ]
        }
      ]
    },
    {
      "cell_type": "code",
      "source": [
        "arr2 = np.array([[1, 2, 3],\n",
        "                 [4, 5, 6],\n",
        "                 [7, 8, 9]])\n"
      ],
      "metadata": {
        "id": "unsGZ13K98Ig"
      },
      "execution_count": 21,
      "outputs": []
    },
    {
      "cell_type": "code",
      "source": [
        "#Extract the element at row 2, column 3.\n",
        "print(arr2[1,2])\n",
        "\n",
        "#Extract the first row.\n",
        "print(arr2[0])\n",
        "\n",
        "#Extract the first column.\n",
        "print(arr2[:,0])\n",
        "\n",
        "#Extract the subarray [[5, 6], [8, 9]].\n",
        "print(arr2[1:3,1:3])\n",
        "#Extract the subarray [[1, 2], [7, 8]].\n",
        "print(arr2[0:3:2,0:2])\n",
        "#Extract the subarray [[1, 3], [7, 9]].\n",
        "print(arr2[:3:2,:3:2])\n",
        "\n",
        "\n",
        "#Extract all elements greater than 5.\n",
        "print(arr2[arr2>5])\n",
        "# convert all element to float\n",
        "print(arr2.astype(float))\n",
        "print(arr2.astype(str))\n",
        "print(arr2)"
      ],
      "metadata": {
        "colab": {
          "base_uri": "https://localhost:8080/"
        },
        "id": "bgICuyQP-DQ5",
        "outputId": "b57fdf8e-aa08-4bf4-d3f0-5db64063c4bd"
      },
      "execution_count": 41,
      "outputs": [
        {
          "output_type": "stream",
          "name": "stdout",
          "text": [
            "6\n",
            "[1 2 3]\n",
            "[1 4 7]\n",
            "[[5 6]\n",
            " [8 9]]\n",
            "[[1 2]\n",
            " [7 8]]\n",
            "[[1 3]\n",
            " [7 9]]\n",
            "[6 7 8 9]\n",
            "[[1. 2. 3.]\n",
            " [4. 5. 6.]\n",
            " [7. 8. 9.]]\n",
            "[['1' '2' '3']\n",
            " ['4' '5' '6']\n",
            " ['7' '8' '9']]\n",
            "[[1 2 3]\n",
            " [4 5 6]\n",
            " [7 8 9]]\n"
          ]
        }
      ]
    },
    {
      "cell_type": "code",
      "source": [
        "# reverse  array\n",
        "print(arr[::-1])# 1D array\n",
        "print(arr2[::-1,::-1])# 2D array\n"
      ],
      "metadata": {
        "colab": {
          "base_uri": "https://localhost:8080/"
        },
        "id": "MJS3O6uDElPY",
        "outputId": "56d472eb-d577-4c0b-88de-5456a387bb99"
      },
      "execution_count": 44,
      "outputs": [
        {
          "output_type": "stream",
          "name": "stdout",
          "text": [
            "[60 50 40 30 20 10]\n",
            "[[9 8 7]\n",
            " [6 5 4]\n",
            " [3 2 1]]\n"
          ]
        }
      ]
    },
    {
      "cell_type": "code",
      "source": [
        "# fancy indexing\n",
        "arr = np.array([10, 20, 30, 40, 50])\n",
        "#   # Positions we want\n",
        "# i want to print 10,20,40\n",
        "index=[0,1,3]\n",
        "print(arr[index])\n"
      ],
      "metadata": {
        "colab": {
          "base_uri": "https://localhost:8080/"
        },
        "id": "9j5jaR_KFA6M",
        "outputId": "0bae158c-a763-4f82-d059-8b47ab64ffb9"
      },
      "execution_count": 46,
      "outputs": [
        {
          "output_type": "stream",
          "name": "stdout",
          "text": [
            "[10 20 40]\n"
          ]
        }
      ]
    },
    {
      "cell_type": "code",
      "source": [
        "arr2 = np.array([[1, 2, 3],\n",
        "                 [4, 5, 6],\n",
        "                 [7, 8, 9]])\n",
        "\n",
        "  # Picks (0,1)=2 and (2,2)=9\n",
        "print(arr2[[0, 2], [1, 2]])\n",
        "# first write the codinate number of element example (0,1)=2\n",
        "# i want 5 then 5=(1,1)\n",
        "print(arr2[1,1])\n",
        "# i want 7 and 6\n",
        "# 7=(2,0) and 6=(1,2)\n",
        "print(arr2[[2,1],[0,2]])\n"
      ],
      "metadata": {
        "colab": {
          "base_uri": "https://localhost:8080/"
        },
        "id": "UkWulZ7HGnwE",
        "outputId": "8bdd36d9-c800-48a7-9f97-92688039f136"
      },
      "execution_count": 49,
      "outputs": [
        {
          "output_type": "stream",
          "name": "stdout",
          "text": [
            "[2 9]\n",
            "5\n",
            "[7 6]\n"
          ]
        }
      ]
    },
    {
      "cell_type": "code",
      "source": [
        "# adding and removing element\n",
        "new=np.insert(arr2,7,5)\n",
        "new=np.insert(new,7,12)\n",
        "print(new.resize((3,4)))"
      ],
      "metadata": {
        "colab": {
          "base_uri": "https://localhost:8080/"
        },
        "id": "3DQFe_8AIq5W",
        "outputId": "0f1ea5f8-85ce-4c51-cfa7-8148755a32e1"
      },
      "execution_count": 54,
      "outputs": [
        {
          "output_type": "stream",
          "name": "stdout",
          "text": [
            "None\n"
          ]
        }
      ]
    }
  ]
}